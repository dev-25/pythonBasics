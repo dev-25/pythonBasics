{
 "cells": [
  {
   "cell_type": "markdown",
   "metadata": {},
   "source": []
  },
  {
   "cell_type": "code",
   "execution_count": 27,
   "metadata": {},
   "outputs": [
    {
     "name": "stdout",
     "output_type": "stream",
     "text": [
      "Circle area: 78.53975\n",
      "Square area: 9\n"
     ]
    }
   ],
   "source": [
    "# from abc import ABC, abstractmethod\n",
    "\n",
    "# class Shape(ABC):\n",
    "class Shape():\n",
    "    # @abstractmethod\n",
    "    def area(self):\n",
    "        pass\n",
    "\n",
    "class Circle(Shape):\n",
    "    def __init__(self, radius):\n",
    "        self.radius = radius\n",
    "    \n",
    "    def area(self):\n",
    "        return 3.14159 * self.radius * self.radius\n",
    "\n",
    "class Square(Shape):\n",
    "    def __init__(self, side):\n",
    "        self.side = side\n",
    "    \n",
    "    def area(self):\n",
    "        return self.side * self.side\n",
    "\n",
    "# You can create instances of the concrete classes\n",
    "circle = Circle(5)\n",
    "square = Square(3)\n",
    "\n",
    "# You can call the abstract method on the instances\n",
    "print(\"Circle area:\", circle.area())\n",
    "print(\"Square area:\", square.area())\n"
   ]
  },
  {
   "cell_type": "code",
   "execution_count": 20,
   "metadata": {},
   "outputs": [
    {
     "name": "stdout",
     "output_type": "stream",
     "text": [
      "hello\n",
      "hello\n",
      "this is Practice\n",
      "this is Practice\n"
     ]
    }
   ],
   "source": [
    "class computer:\n",
    "    def __init__(self) -> None:   # Executes automatically when object is created\n",
    "        print('hello')\n",
    "        \n",
    "    def config(self):\n",
    "        print('this is Practice')\n",
    "\n",
    "lol = computer()\n",
    "lol2 = computer()\n",
    "\n",
    "lol.config()\n",
    "lol2.config()"
   ]
  },
  {
   "cell_type": "code",
   "execution_count": 24,
   "metadata": {},
   "outputs": [
    {
     "name": "stdout",
     "output_type": "stream",
     "text": [
      "config is i5 8\n",
      "config is Ryzen3 8\n"
     ]
    }
   ],
   "source": [
    "class computer:\n",
    "\n",
    "    def __init__(self,cpu,ram) -> None:\n",
    "        self.cpu = cpu\n",
    "        self.ram = ram\n",
    "        \n",
    "    def config(self):\n",
    "        print('config is',self.cpu, self.ram)\n",
    "\n",
    "lol = computer('i5',8) \n",
    "lol2 = computer('Ryzen3',8)\n",
    "\n",
    "lol.config()\n",
    "lol2.config()"
   ]
  },
  {
   "cell_type": "code",
   "execution_count": 43,
   "metadata": {},
   "outputs": [
    {
     "ename": "AttributeError",
     "evalue": "'child1' object has no attribute 'b'",
     "output_type": "error",
     "traceback": [
      "\u001b[1;31m---------------------------------------------------------------------------\u001b[0m",
      "\u001b[1;31mAttributeError\u001b[0m                            Traceback (most recent call last)",
      "Cell \u001b[1;32mIn[43], line 23\u001b[0m\n\u001b[0;32m     20\u001b[0m dev1 \u001b[39m=\u001b[39m child1(\u001b[39m2\u001b[39m,\u001b[39m3\u001b[39m)\n\u001b[0;32m     21\u001b[0m dev2 \u001b[39m=\u001b[39m child2(\u001b[39m2\u001b[39m,\u001b[39m3\u001b[39m)\n\u001b[1;32m---> 23\u001b[0m \u001b[39mprint\u001b[39m(dev1\u001b[39m.\u001b[39;49mmultiply())\n\u001b[0;32m     24\u001b[0m \u001b[39mprint\u001b[39m(dev2\u001b[39m.\u001b[39madd())\n",
      "Cell \u001b[1;32mIn[43], line 11\u001b[0m, in \u001b[0;36mchild1.multiply\u001b[1;34m(self)\u001b[0m\n\u001b[0;32m     10\u001b[0m \u001b[39mdef\u001b[39;00m \u001b[39mmultiply\u001b[39m(\u001b[39mself\u001b[39m):\n\u001b[1;32m---> 11\u001b[0m     \u001b[39mreturn\u001b[39;00m \u001b[39mself\u001b[39m\u001b[39m.\u001b[39ma \u001b[39m*\u001b[39m \u001b[39mself\u001b[39;49m\u001b[39m.\u001b[39;49mb\n",
      "\u001b[1;31mAttributeError\u001b[0m: 'child1' object has no attribute 'b'"
     ]
    }
   ],
   "source": [
    "class parent():\n",
    "    def __init__(self,a,b):\n",
    "        self.a = a\n",
    "        self._b = b\n",
    "    \n",
    "class child1(parent):\n",
    "    def __init__(self,a,b):\n",
    "        super().__init__(a,b)\n",
    "    \n",
    "    def multiply(self):\n",
    "        return self.a * self.b\n",
    "    \n",
    "class child2(parent):\n",
    "    def __init__(self,a,b):\n",
    "        super().__init__(a,b)\n",
    "        \n",
    "    def add(self):\n",
    "        return self.a + self.b\n",
    "\n",
    "dev1 = child1(2,3)\n",
    "dev2 = child2(2,3)\n",
    "\n",
    "print(dev1.multiply())\n",
    "print(dev2.add())"
   ]
  },
  {
   "cell_type": "code",
   "execution_count": null,
   "metadata": {},
   "outputs": [],
   "source": []
  }
 ],
 "metadata": {
  "kernelspec": {
   "display_name": "Python 3",
   "language": "python",
   "name": "python3"
  },
  "language_info": {
   "codemirror_mode": {
    "name": "ipython",
    "version": 3
   },
   "file_extension": ".py",
   "mimetype": "text/x-python",
   "name": "python",
   "nbconvert_exporter": "python",
   "pygments_lexer": "ipython3",
   "version": "3.10.9"
  },
  "orig_nbformat": 4
 },
 "nbformat": 4,
 "nbformat_minor": 2
}
