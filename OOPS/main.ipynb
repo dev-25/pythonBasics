{
 "cells": [
  {
   "cell_type": "code",
   "execution_count": 20,
   "metadata": {},
   "outputs": [
    {
     "name": "stdout",
     "output_type": "stream",
     "text": [
      "hello\n",
      "hello\n",
      "this is Practice\n",
      "this is Practice\n"
     ]
    }
   ],
   "source": [
    "class computer:\n",
    "    def __init__(self) -> None:   # Executes automatically when object is created\n",
    "        print('hello')\n",
    "        \n",
    "    def config(self):\n",
    "        print('this is Practice')\n",
    "\n",
    "lol = computer()\n",
    "lol2 = computer()\n",
    "\n",
    "lol.config()\n",
    "lol2.config()"
   ]
  },
  {
   "cell_type": "code",
   "execution_count": 24,
   "metadata": {},
   "outputs": [
    {
     "name": "stdout",
     "output_type": "stream",
     "text": [
      "config is i5 8\n",
      "config is Ryzen3 8\n"
     ]
    }
   ],
   "source": [
    "class computer:\n",
    "    def __init__(self,cpu,ram) -> None:\n",
    "        self.cpu = cpu\n",
    "        self.ram = ram\n",
    "        \n",
    "    def config(self):\n",
    "        print('config is',self.cpu, self.ram)\n",
    "\n",
    "lol = computer('i5',8) \n",
    "lol2 = computer('Ryzen3',8)\n",
    "\n",
    "lol.config()\n",
    "lol2.config()"
   ]
  },
  {
   "cell_type": "code",
   "execution_count": 5,
   "metadata": {},
   "outputs": [
    {
     "name": "stdout",
     "output_type": "stream",
     "text": [
      "6\n",
      "5\n"
     ]
    }
   ],
   "source": [
    "class parent():\n",
    "    def __init__(self,a,b):\n",
    "        self.a = a\n",
    "        self.b = b\n",
    "    \n",
    "class child1(parent):\n",
    "    def __init__(self,a,b):\n",
    "        super().__init__(a,b)\n",
    "    \n",
    "    def solve(self):\n",
    "        return self.a * self.b\n",
    "    \n",
    "class child2(parent):\n",
    "    def __init__(self,a,b):\n",
    "        super().__init__(a,b)\n",
    "        \n",
    "    def solve(self):\n",
    "        return self.a + self.b\n",
    "\n",
    "dev1 = child1(2,3)\n",
    "dev2 = child2(2,3)\n",
    "\n",
    "print(dev1.solve())\n",
    "print(dev2.solve())"
   ]
  },
  {
   "cell_type": "code",
   "execution_count": 3,
   "metadata": {},
   "outputs": [
    {
     "name": "stdout",
     "output_type": "stream",
     "text": [
      "I am an animal\n",
      "Woof!\n",
      "Meow!\n"
     ]
    }
   ],
   "source": [
    "class Animal:\n",
    "    def speak(self):\n",
    "        print(\"I am an animal\")\n",
    "\n",
    "class Dog(Animal):\n",
    "    def speak(self):\n",
    "        print(\"Woof!\")\n",
    "\n",
    "class Cat(Animal):\n",
    "    def speak(self):\n",
    "        print(\"Meow!\")\n",
    "\n",
    "def main():\n",
    "    animal = Animal()\n",
    "    dog = Dog()\n",
    "    cat = Cat()\n",
    "\n",
    "    animal.speak()\n",
    "    dog.speak()\n",
    "    cat.speak()\n",
    "\n",
    "if __name__ == \"__main__\":\n",
    "    main()"
   ]
  },
  {
   "cell_type": "code",
   "execution_count": 6,
   "metadata": {},
   "outputs": [
    {
     "name": "stdout",
     "output_type": "stream",
     "text": [
      "Hello from the Parent class\n",
      "Hello from the Child class\n"
     ]
    }
   ],
   "source": [
    "class Parent:\n",
    "    def greet(self):\n",
    "        print(\"Hello from the Parent class\")\n",
    "\n",
    "class Child(Parent):\n",
    "    def greet(self):\n",
    "        super().greet()  # Calling the greet() method of the parent class\n",
    "        print(\"Hello from the Child class\")\n",
    "\n",
    "child = Child()\n",
    "child.greet()"
   ]
  },
  {
   "cell_type": "code",
   "execution_count": 1,
   "metadata": {},
   "outputs": [
    {
     "name": "stdout",
     "output_type": "stream",
     "text": [
      "Alice\n",
      "30\n"
     ]
    }
   ],
   "source": [
    "class Person:\n",
    "    def __init__(self, name, age):\n",
    "        self.name = name\n",
    "        self.age = age\n",
    "\n",
    "person1 = Person(\"Alice\", 30)\n",
    "\n",
    "print(person1.name) \n",
    "print(person1.age)   "
   ]
  },
  {
   "cell_type": "code",
   "execution_count": null,
   "metadata": {},
   "outputs": [],
   "source": []
  }
 ],
 "metadata": {
  "kernelspec": {
   "display_name": "Python 3",
   "language": "python",
   "name": "python3"
  },
  "language_info": {
   "codemirror_mode": {
    "name": "ipython",
    "version": 3
   },
   "file_extension": ".py",
   "mimetype": "text/x-python",
   "name": "python",
   "nbconvert_exporter": "python",
   "pygments_lexer": "ipython3",
   "version": "3.10.9"
  },
  "orig_nbformat": 4
 },
 "nbformat": 4,
 "nbformat_minor": 2
}
