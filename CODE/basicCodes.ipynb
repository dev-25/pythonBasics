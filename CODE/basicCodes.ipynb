{
 "cells": [
  {
   "cell_type": "code",
   "execution_count": 34,
   "metadata": {},
   "outputs": [
    {
     "name": "stdout",
     "output_type": "stream",
     "text": [
      "0 1 1 2 "
     ]
    }
   ],
   "source": [
    "# Python program to display the Fibonacci sequence\n",
    "def recur_fibo(n):\n",
    "   if n <= 1:\n",
    "       return n\n",
    "   else:\n",
    "       return(recur_fibo(n-1) + recur_fibo(n-2))\n",
    "\n",
    "nterms = 4\n",
    "for i in range(nterms):\n",
    "    print(recur_fibo(i), end=' ')"
   ]
  },
  {
   "cell_type": "code",
   "execution_count": 35,
   "metadata": {},
   "outputs": [
    {
     "name": "stdout",
     "output_type": "stream",
     "text": [
      "121\n"
     ]
    }
   ],
   "source": [
    "# Pallindrome\n",
    "num = 121\n",
    "temp = num\n",
    "rev = 0\n",
    "while num!=0:\n",
    "    digit = num % 10   # modulus - to get remainder\n",
    "    rev = rev*10 + digit \n",
    "        # rev = rev + digit**3\n",
    "    num = num//10\n",
    "print(rev)"
   ]
  },
  {
   "cell_type": "code",
   "execution_count": 5,
   "metadata": {},
   "outputs": [
    {
     "name": "stdout",
     "output_type": "stream",
     "text": [
      "153 is an Armstrong number\n"
     ]
    }
   ],
   "source": [
    "# Armstrong\n",
    "num = 153\n",
    "sum = 0\n",
    "\n",
    "temp = num\n",
    "while temp > 0:\n",
    "   digit = temp % 10 # takes remainder\n",
    "   sum += digit ** 3\n",
    "   temp //= 10 \n",
    "\n",
    "if num == sum:\n",
    "   print(num,\"is an Armstrong number\")\n",
    "else:\n",
    "   print(num,\"is not an Armstrong number\")\n"
   ]
  },
  {
   "cell_type": "code",
   "execution_count": 11,
   "metadata": {},
   "outputs": [
    {
     "name": "stdout",
     "output_type": "stream",
     "text": [
      "[9, 8, 6, 3, 2, 1]\n"
     ]
    }
   ],
   "source": [
    "# Input list from user and arrange it in order -> Selection Sort Algorithm\n",
    "num = input('enter list')\n",
    "List = [int(a) for a in num.split()] \n",
    "n = len(List)\n",
    "\n",
    "for i in range(n-1):\n",
    "    min_index = i\n",
    "    for j in range(i+1,n):\n",
    "        if List[j] < List[min_index]:\n",
    "            min_index = j\n",
    "    List[i], List[min_index] =  List[min_index], List[i]\n",
    "print(List)"
   ]
  },
  {
   "cell_type": "code",
   "execution_count": 12,
   "metadata": {},
   "outputs": [
    {
     "name": "stdout",
     "output_type": "stream",
     "text": [
      "{'h': 1, 'e': 1, 'l': 3, 'o': 2, ' ': 1, 'w': 1, 'r': 1, 'd': 1}\n"
     ]
    }
   ],
   "source": [
    "# Count no of occurences of each character in string\n",
    "string = 'hello world'\n",
    "char_count = {}\n",
    "for char in string:\n",
    "    char_count[char] = char_count.get(char, 0) + 1\n",
    "print(char_count)"
   ]
  },
  {
   "cell_type": "code",
   "execution_count": 13,
   "metadata": {},
   "outputs": [
    {
     "name": "stdout",
     "output_type": "stream",
     "text": [
      "Number of vowels: 3\n"
     ]
    }
   ],
   "source": [
    "# Count vowel in string\n",
    "def count_vowels(input_string):\n",
    "    vowels = \"aeiouAEIOU\"\n",
    "    count = 0\n",
    "    for char in input_string:\n",
    "        if char in vowels:\n",
    "            count += 1\n",
    "    return count\n",
    "\n",
    "input_str = \"Hello, World!\"\n",
    "result = count_vowels(input_str)\n",
    "print(\"Number of vowels:\", result)"
   ]
  },
  {
   "cell_type": "code",
   "execution_count": 6,
   "metadata": {},
   "outputs": [
    {
     "name": "stdout",
     "output_type": "stream",
     "text": [
      "dcba\n"
     ]
    }
   ],
   "source": [
    "# Arrange the string in ascending order\n",
    "input_string = \"dcab\"\n",
    "# sort = reversed(input_string)\n",
    "# print(sort)\n",
    "# print(input_string)\n",
    "sorted_string = ''.join(sorted(input_string, reverse= True))\n",
    "print(sorted_string)"
   ]
  },
  {
   "cell_type": "code",
   "execution_count": 7,
   "metadata": {},
   "outputs": [
    {
     "name": "stdout",
     "output_type": "stream",
     "text": [
      "dlrow olleh\n",
      "dlrow olleh\n",
      "dlrow olleh\n"
     ]
    }
   ],
   "source": [
    "# reverse a string\n",
    "a = 'hello world'\n",
    "print(a[::-1])\n",
    "\n",
    "print(''.join(reversed(a)))\n",
    "\n",
    "\n",
    "reversed_str = \"\"\n",
    "for char in a:\n",
    "    reversed_str = char + reversed_str\n",
    "print(reversed_str)"
   ]
  },
  {
   "cell_type": "code",
   "execution_count": 20,
   "metadata": {},
   "outputs": [
    {
     "name": "stdout",
     "output_type": "stream",
     "text": [
      "Number of digits in 10 is: 2\n"
     ]
    }
   ],
   "source": [
    "# No of digits in number\n",
    "def count_digits(number):\n",
    "    return len(str(abs(number)))\n",
    "\n",
    "number = 10\n",
    "print(\"Number of digits in\", number, \"is:\", count_digits(number))\n",
    "\n",
    "# count = 0\n",
    "# while number != 0:\n",
    "#     number //= 10  # Integer division to remove the last digit\n",
    "#     count += 1"
   ]
  },
  {
   "cell_type": "code",
   "execution_count": 4,
   "metadata": {},
   "outputs": [
    {
     "name": "stdout",
     "output_type": "stream",
     "text": [
      "programming\n",
      "a\n"
     ]
    }
   ],
   "source": [
    "text = \"Python is a versatile programming language.\"\n",
    "words = text.split()\n",
    "longest_word = max(words, key=len)\n",
    "shortest_word = min(words, key=len)\n",
    "print(longest_word)   \n",
    "print(shortest_word)  \n"
   ]
  },
  {
   "cell_type": "code",
   "execution_count": 10,
   "metadata": {},
   "outputs": [
    {
     "name": "stdout",
     "output_type": "stream",
     "text": [
      "1 s\n",
      "1 d\n",
      "2 aa\n",
      "2 ff\n",
      "2 bb\n",
      "1 a\n",
      "['a', 'd', 's', 'aa', 'bb', 'ff']\n"
     ]
    }
   ],
   "source": [
    "a = input()\n",
    "b = [str(x) for x in a.split()]\n",
    "\n",
    "def custom_sort(item):\n",
    "    print(len(item), item)\n",
    "    return (len(item), item)\n",
    "\n",
    "\n",
    "sorted_list = sorted(b, key=custom_sort)\n",
    "\n",
    "print(sorted_list)\n"
   ]
  },
  {
   "cell_type": "code",
   "execution_count": 12,
   "metadata": {},
   "outputs": [
    {
     "name": "stdout",
     "output_type": "stream",
     "text": [
      "1 d\n",
      "1 s\n",
      "1 a\n",
      "2 ss\n",
      "2 aa\n",
      "2 dd\n",
      "2 ff\n",
      "4 sdsd\n",
      "['a', 'd', 's', 'aa', 'dd', 'ff', 'ss', 'sdsd']\n"
     ]
    }
   ],
   "source": [
    "a = input()\n",
    "b = [str(x) for x in a.split()]\n",
    "\n",
    "def lol(item):\n",
    "    print(len(item), item)\n",
    "    return (len(item), item)\n",
    "\n",
    "b.sort(key=lol)\n",
    "\n",
    "print(b)\n"
   ]
  },
  {
   "cell_type": "code",
   "execution_count": null,
   "metadata": {},
   "outputs": [],
   "source": []
  }
 ],
 "metadata": {
  "kernelspec": {
   "display_name": "Python 3",
   "language": "python",
   "name": "python3"
  },
  "language_info": {
   "codemirror_mode": {
    "name": "ipython",
    "version": 3
   },
   "file_extension": ".py",
   "mimetype": "text/x-python",
   "name": "python",
   "nbconvert_exporter": "python",
   "pygments_lexer": "ipython3",
   "version": "3.10.9"
  },
  "orig_nbformat": 4
 },
 "nbformat": 4,
 "nbformat_minor": 2
}
