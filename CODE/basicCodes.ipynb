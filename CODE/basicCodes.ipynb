{
 "cells": [
  {
   "cell_type": "code",
   "execution_count": 34,
   "metadata": {},
   "outputs": [
    {
     "name": "stdout",
     "output_type": "stream",
     "text": [
      "0 1 1 2 "
     ]
    }
   ],
   "source": [
    "# Python program to display the Fibonacci sequence\n",
    "def recur_fibo(n):\n",
    "   if n <= 1:\n",
    "       return n\n",
    "   else:\n",
    "       return(recur_fibo(n-1) + recur_fibo(n-2))\n",
    "\n",
    "nterms = 4\n",
    "for i in range(nterms):\n",
    "    print(recur_fibo(i), end=' ')"
   ]
  },
  {
   "cell_type": "code",
   "execution_count": 35,
   "metadata": {},
   "outputs": [
    {
     "name": "stdout",
     "output_type": "stream",
     "text": [
      "121\n"
     ]
    }
   ],
   "source": [
    "# Pallindrome\n",
    "num = 121\n",
    "temp = num\n",
    "rev = 0\n",
    "while num!=0:\n",
    "    digit = num % 10   # modulus - to get remainder\n",
    "    rev = rev*10 + digit \n",
    "    num = num//10\n",
    "print(rev)"
   ]
  },
  {
   "cell_type": "code",
   "execution_count": 14,
   "metadata": {},
   "outputs": [
    {
     "name": "stdout",
     "output_type": "stream",
     "text": [
      "15\n",
      "1\n",
      "0\n",
      "153 is an Armstrong number\n"
     ]
    }
   ],
   "source": [
    "# Armstrong\n",
    "num = 153\n",
    "sum = 0\n",
    "\n",
    "temp = num\n",
    "while temp > 0:\n",
    "   digit = temp % 10 # takes remainder\n",
    "   sum += digit ** 3\n",
    "   temp //= 10 \n",
    "\n",
    "if num == sum:\n",
    "   print(num,\"is an Armstrong number\")\n",
    "else:\n",
    "   print(num,\"is not an Armstrong number\")\n"
   ]
  },
  {
   "cell_type": "code",
   "execution_count": 11,
   "metadata": {},
   "outputs": [
    {
     "name": "stdout",
     "output_type": "stream",
     "text": [
      "[9, 8, 6, 3, 2, 1]\n"
     ]
    }
   ],
   "source": [
    "# Input list from user and arrange it in order -> Selection Sort Algorithm\n",
    "num = input('enter list')\n",
    "List = [int(a) for a in num.split()] \n",
    "n = len(List)\n",
    "\n",
    "for i in range(n-1):\n",
    "    min_index = i\n",
    "    for j in range(i+1,n):\n",
    "        if List[j] < List[min_index]:\n",
    "            min_index = j\n",
    "    List[i], List[min_index] =  List[min_index], List[i]\n",
    "print(List)"
   ]
  },
  {
   "cell_type": "code",
   "execution_count": 12,
   "metadata": {},
   "outputs": [
    {
     "name": "stdout",
     "output_type": "stream",
     "text": [
      "{'h': 1, 'e': 1, 'l': 3, 'o': 2, ' ': 1, 'w': 1, 'r': 1, 'd': 1}\n"
     ]
    }
   ],
   "source": [
    "# Count no of occurences of each character in string\n",
    "string = 'hello world'\n",
    "char_count = {}\n",
    "for char in string:\n",
    "    char_count[char] = char_count.get(char, 0) + 1\n",
    "print(char_count)"
   ]
  },
  {
   "cell_type": "code",
   "execution_count": 13,
   "metadata": {},
   "outputs": [
    {
     "name": "stdout",
     "output_type": "stream",
     "text": [
      "Number of vowels: 3\n"
     ]
    }
   ],
   "source": [
    "# Count vowel in string\n",
    "def count_vowels(input_string):\n",
    "    vowels = \"aeiouAEIOU\"\n",
    "    count = 0\n",
    "    for char in input_string:\n",
    "        if char in vowels:\n",
    "            count += 1\n",
    "    return count\n",
    "\n",
    "input_str = \"Hello, World!\"\n",
    "result = count_vowels(input_str)\n",
    "print(\"Number of vowels:\", result)"
   ]
  },
  {
   "cell_type": "code",
   "execution_count": 2,
   "metadata": {},
   "outputs": [
    {
     "name": "stdout",
     "output_type": "stream",
     "text": [
      "dcba\n"
     ]
    }
   ],
   "source": [
    "# Arrange the string in ascending order\n",
    "input_string = \"dcab\"\n",
    "# sort = reversed(input_string)\n",
    "# print(sort)\n",
    "# print(input_string)\n",
    "sorted_string = ''.join(sorted(input_string, reverse= True))\n",
    "print(sorted_string)"
   ]
  },
  {
   "cell_type": "code",
   "execution_count": 7,
   "metadata": {},
   "outputs": [
    {
     "name": "stdout",
     "output_type": "stream",
     "text": [
      "dlrow olleh\n",
      "dlrow olleh\n",
      "dlrow olleh\n"
     ]
    }
   ],
   "source": [
    "# reverse a string\n",
    "a = 'hello world'\n",
    "print(a[::-1])\n",
    "\n",
    "print(''.join(reversed(a)))\n",
    "\n",
    "\n",
    "reversed_str = \"\"\n",
    "for char in a:\n",
    "    reversed_str = char + reversed_str\n",
    "print(reversed_str)"
   ]
  },
  {
   "cell_type": "code",
   "execution_count": 20,
   "metadata": {},
   "outputs": [
    {
     "name": "stdout",
     "output_type": "stream",
     "text": [
      "Number of digits in 10 is: 2\n"
     ]
    }
   ],
   "source": [
    "# No of digits in number\n",
    "def count_digits(number):\n",
    "    return len(str(abs(number)))\n",
    "\n",
    "number = 10\n",
    "print(\"Number of digits in\", number, \"is:\", count_digits(number))\n",
    "\n",
    "# count = 0\n",
    "# while number != 0:\n",
    "#     number //= 10  # Integer division to remove the last digit\n",
    "#     count += 1"
   ]
  },
  {
   "cell_type": "code",
   "execution_count": 22,
   "metadata": {},
   "outputs": [
    {
     "name": "stdout",
     "output_type": "stream",
     "text": [
      "3\n"
     ]
    }
   ],
   "source": [
    "a = 'dec'\n",
    "b = [1,2,3]\n",
    "print(len(b))"
   ]
  },
  {
   "cell_type": "code",
   "execution_count": 5,
   "metadata": {},
   "outputs": [
    {
     "name": "stdout",
     "output_type": "stream",
     "text": [
      "123\n",
      "-123\n"
     ]
    }
   ],
   "source": [
    "temp = -123\n",
    "# temp //= 10\n",
    "print(abs(temp))\n",
    "print(temp)"
   ]
  },
  {
   "cell_type": "code",
   "execution_count": 8,
   "metadata": {},
   "outputs": [
    {
     "name": "stdout",
     "output_type": "stream",
     "text": [
      "programming\n",
      "a\n"
     ]
    }
   ],
   "source": [
    "text = \"Python is a versatile programming language.\"\n",
    "words = text.split()\n",
    "longest_word = max(words, key=len)\n",
    "shortest_word = min(words, key=len)\n",
    "print(longest_word)   \n",
    "print(shortest_word)  \n"
   ]
  },
  {
   "cell_type": "code",
   "execution_count": 35,
   "metadata": {},
   "outputs": [
    {
     "name": "stdout",
     "output_type": "stream",
     "text": [
      "100 99 98 97 96 95 94 93 92 91 \n",
      "\n",
      "81 82 83 84 85 86 87 88 89 90 80 81 82 83 84 85 86 87 88 89 79 80 81 82 83 84 85 86 87 88 78 79 80 81 82 83 84 85 86 87 77 78 79 80 81 82 83 84 85 86 76 77 78 79 80 81 82 83 84 85 75 76 77 78 79 80 81 82 83 84 74 75 76 77 78 79 80 81 82 83 73 74 75 76 77 78 79 80 81 82 72 73 74 75 76 77 78 79 80 81 \n",
      "\n",
      "80 79 78 77 76 75 74 73 72 71 \n",
      "\n",
      "61 62 63 64 65 66 67 68 69 70 60 61 62 63 64 65 66 67 68 69 59 60 61 62 63 64 65 66 67 68 58 59 60 61 62 63 64 65 66 67 57 58 59 60 61 62 63 64 65 66 56 57 58 59 60 61 62 63 64 65 55 56 57 58 59 60 61 62 63 64 54 55 56 57 58 59 60 61 62 63 53 54 55 56 57 58 59 60 61 62 52 53 54 55 56 57 58 59 60 61 \n",
      "\n",
      "60 59 58 57 56 55 54 53 52 51 \n",
      "\n",
      "41 42 43 44 45 46 47 48 49 50 40 41 42 43 44 45 46 47 48 49 39 40 41 42 43 44 45 46 47 48 38 39 40 41 42 43 44 45 46 47 37 38 39 40 41 42 43 44 45 46 36 37 38 39 40 41 42 43 44 45 35 36 37 38 39 40 41 42 43 44 34 35 36 37 38 39 40 41 42 43 33 34 35 36 37 38 39 40 41 42 32 33 34 35 36 37 38 39 40 41 \n",
      "\n",
      "40 39 38 37 36 35 34 33 32 31 \n",
      "\n",
      "21 22 23 24 25 26 27 28 29 30 20 21 22 23 24 25 26 27 28 29 19 20 21 22 23 24 25 26 27 28 18 19 20 21 22 23 24 25 26 27 17 18 19 20 21 22 23 24 25 26 16 17 18 19 20 21 22 23 24 25 15 16 17 18 19 20 21 22 23 24 14 15 16 17 18 19 20 21 22 23 13 14 15 16 17 18 19 20 21 22 12 13 14 15 16 17 18 19 20 21 \n",
      "\n",
      "20 19 18 17 16 15 14 13 12 11 \n",
      "\n",
      "1 2 3 4 5 6 7 8 9 10 0 1 2 3 4 5 6 7 8 9 -1 0 1 2 3 4 5 6 7 8 -2 -1 0 1 2 3 4 5 6 7 -3 -2 -1 0 1 2 3 4 5 6 -4 -3 -2 -1 0 1 2 3 4 5 -5 -4 -3 -2 -1 0 1 2 3 4 -6 -5 -4 -3 -2 -1 0 1 2 3 -7 -6 -5 -4 -3 -2 -1 0 1 2 -8 -7 -6 -5 -4 -3 -2 -1 0 1 "
     ]
    }
   ],
   "source": [
    "a = 2\n",
    "for i in range(100, 0, -1):\n",
    "    if i%10 == 0 and i!=100:\n",
    "        print('\\n')\n",
    "        a = a+2\n",
    "        b = 9\n",
    "    if a%2 == 0:\n",
    "        print()\n",
    "\n",
    "\n",
    "\n",
    "    print(i,end=' ')\n"
   ]
  },
  {
   "cell_type": "code",
   "execution_count": 12,
   "metadata": {},
   "outputs": [
    {
     "name": "stdout",
     "output_type": "stream",
     "text": [
      "0\n"
     ]
    }
   ],
   "source": [
    "i = 100\n",
    "a = i%10\n",
    "print(a)"
   ]
  },
  {
   "cell_type": "code",
   "execution_count": null,
   "metadata": {},
   "outputs": [],
   "source": []
  }
 ],
 "metadata": {
  "kernelspec": {
   "display_name": "Python 3",
   "language": "python",
   "name": "python3"
  },
  "language_info": {
   "codemirror_mode": {
    "name": "ipython",
    "version": 3
   },
   "file_extension": ".py",
   "mimetype": "text/x-python",
   "name": "python",
   "nbconvert_exporter": "python",
   "pygments_lexer": "ipython3",
   "version": "3.10.9"
  },
  "orig_nbformat": 4
 },
 "nbformat": 4,
 "nbformat_minor": 2
}
