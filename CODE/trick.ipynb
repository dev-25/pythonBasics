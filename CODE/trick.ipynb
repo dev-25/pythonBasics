{
 "cells": [
  {
   "cell_type": "code",
   "execution_count": 1,
   "metadata": {},
   "outputs": [
    {
     "name": "stdout",
     "output_type": "stream",
     "text": [
      "Hey there, Devesh\n"
     ]
    }
   ],
   "source": [
    "# In Python, a lambda function is a special type of function without the function name.\n",
    "# lambda that accepts one argument\n",
    "user = lambda name : print('Hey there,', name)\n",
    "# lambda call\n",
    "user('Devesh')"
   ]
  },
  {
   "cell_type": "code",
   "execution_count": 16,
   "metadata": {},
   "outputs": [
    {
     "name": "stdout",
     "output_type": "stream",
     "text": [
      "[1, 2, 3, 4, 5, 6, 7, 8, 9, 10, 11, 12, 13, 14, 15, 16, 17, 18, 19, 20]\n",
      "[20, 19, 18, 17, 16, 15, 14, 13, 12, 11, 10, 9, 8, 7, 6, 5, 4, 3, 2, 1]\n"
     ]
    }
   ],
   "source": [
    "numbers = [i+1 for i in range(20)]\n",
    "print(numbers)\n",
    "# numbers = numbers[::-1]\n",
    "# print(numbers)\n",
    "levels = [i for i in numbers[::-1]]\n",
    "print(levels)"
   ]
  },
  {
   "cell_type": "code",
   "execution_count": 19,
   "metadata": {},
   "outputs": [
    {
     "name": "stdout",
     "output_type": "stream",
     "text": [
      "2\n"
     ]
    }
   ],
   "source": [
    "a = 'hello world'\n",
    "a = [1,2,3,4,5,6,7]\n",
    "print(a[-1])\n",
    "print(a[::-1])\n",
    "print(a[2::]) \n",
    "print(a[:2:]) \n",
    "print(a[::2]) # Skipping every 2nd word"
   ]
  },
  {
   "cell_type": "code",
   "execution_count": null,
   "metadata": {},
   "outputs": [],
   "source": []
  }
 ],
 "metadata": {
  "kernelspec": {
   "display_name": "Python 3",
   "language": "python",
   "name": "python3"
  },
  "language_info": {
   "codemirror_mode": {
    "name": "ipython",
    "version": 3
   },
   "file_extension": ".py",
   "mimetype": "text/x-python",
   "name": "python",
   "nbconvert_exporter": "python",
   "pygments_lexer": "ipython3",
   "version": "3.10.9"
  },
  "orig_nbformat": 4
 },
 "nbformat": 4,
 "nbformat_minor": 2
}
